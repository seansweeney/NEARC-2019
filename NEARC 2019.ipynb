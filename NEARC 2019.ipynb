{
 "cells": [
  {
   "cell_type": "markdown",
   "metadata": {},
   "source": [
    "## NEARC 2019\n",
    "> This notebook illustrates some of the concepts [I presented at Fall NEARC 2019](https://github.com/seansweeney/NEARC-2019). It does not alter any user data or otherwise run the script `move_agol_user_to_sso.py`.  \n",
    "\n",
    "Before we get started, import some useful modules:"
   ]
  },
  {
   "cell_type": "code",
   "execution_count": null,
   "metadata": {},
   "outputs": [],
   "source": [
    "from collections import Counter"
   ]
  },
  {
   "cell_type": "markdown",
   "metadata": {},
   "source": [
    "### Three ways to connect to AGOL with the API for Python\n",
    "#### Using AGOL logins"
   ]
  },
  {
   "cell_type": "code",
   "execution_count": null,
   "metadata": {},
   "outputs": [],
   "source": [
    "username = input('Connection username: ')\n",
    "password = getpass(prompt='Connection password: ')\n",
    " \n",
    "# Connect to ArcGIS Online\n",
    "try:\n",
    "    # If your user belongs to more than one organization:\n",
    "    org_url = \"https://cambridgegis.maps.arcgis.com/\"\n",
    "    gis = GIS(org_url, username, password)\n",
    "    \n",
    "    # Otherwise can just connect to AGOL - org is automatic\n",
    "    gis = GIS(\"https://arcgis.com/\", username, password)\n",
    "    \n",
    "    # In fact the method defaults to AGOL so you don't even need to specify\n",
    "    gis = GIS(username=username,password=password)\n",
    "except:\n",
    "    print(sys.exc_info()[0])\n",
    "    exit(1)"
   ]
  },
  {
   "cell_type": "markdown",
   "metadata": {},
   "source": [
    "#### Using enterprise logins\n",
    "Get a client_id using by following the instructions here: [User authentication with OAuth 2.0](https://developers.arcgis.com/python/guide/working-with-different-authentication-schemes/#User-authentication-with-OAuth-2.0)"
   ]
  },
  {
   "cell_type": "code",
   "execution_count": null,
   "metadata": {},
   "outputs": [],
   "source": [
    "gis = GIS(\"https://cambridgegis.maps.arcgis.com/\", client_id=client_id)"
   ]
  },
  {
   "cell_type": "markdown",
   "metadata": {},
   "source": [
    "#### From ArcGIS Notebooks in AGOL\n",
    "AGOL and the organization are implied by the current users's context, so connecting is simplified.  This probably works in Enterprise as well but I don't have it installed to test."
   ]
  },
  {
   "cell_type": "code",
   "execution_count": null,
   "metadata": {},
   "outputs": [],
   "source": [
    "from arcgis.gis import GIS\n",
    "gis = GIS(\"home\")"
   ]
  },
  {
   "cell_type": "markdown",
   "metadata": {},
   "source": [
    "### The user object"
   ]
  },
  {
   "cell_type": "code",
   "execution_count": null,
   "metadata": {},
   "outputs": [],
   "source": [
    "user = gis.users.get('ssweeney@cambridgema.gov_CambridgeGIS')"
   ]
  },
  {
   "cell_type": "code",
   "execution_count": null,
   "metadata": {},
   "outputs": [],
   "source": [
    "user"
   ]
  },
  {
   "cell_type": "markdown",
   "metadata": {},
   "source": [
    "#### Profile items for [user.update()](https://esri.github.io/arcgis-python-api/apidoc/html/arcgis.gis.toc.html#arcgis.gis.User.update)\n",
    "Even though the documentation says that you can pass a URL to the thumbnail input on the update method, it doesn't seem to work to pass the _agol_user.get_thumbnail_link()_ result. Instead in my code I download the thumbnail and upload it to the new account, which seems to work. Here's how I did it in my code:\n",
    "```python\n",
    "agol_thumbnail_download = agol_user.download_thumbnail(os.getenv('TEMP'))\n",
    "\n",
    "sso_user.update(access=agol_user.access, preferred_view=agol_user.preferredView, description=agol_user.description, tags=agol_user.tags, \n",
    "                thumbnail=agol_thumbnail_download, fullname=agol_user.fullName, culture=agol_user.culture, region=agol_user.region, \n",
    "                first_name=agol_user.firstName, last_name=agol_user.lastName)\n",
    "```\n",
    "The _User_ object properties referenced above will look something like this:"
   ]
  },
  {
   "cell_type": "code",
   "execution_count": null,
   "metadata": {},
   "outputs": [],
   "source": [
    "print(user.access, user.preferredView, user.description, user.tags,\n",
    "      user.get_thumbnail_link(), user.culture, user.region, \n",
    "      user.fullName, user.firstName, user.lastName, sep='\\n')"
   ]
  },
  {
   "cell_type": "markdown",
   "metadata": {},
   "source": [
    "#### All users\n",
    "Here's a quick way to get a list of all user objects. I use this list for other things below."
   ]
  },
  {
   "cell_type": "code",
   "execution_count": null,
   "metadata": {},
   "outputs": [],
   "source": [
    "all_users = gis.users.search(None, max_users=500)"
   ]
  },
  {
   "cell_type": "markdown",
   "metadata": {},
   "source": [
    "### Roles\n",
    "For built-in user roles (*org_user, org_publisher, org_admin, viewer, view_only, viewplusedit*) you can just pass the role property to update_role.  \n",
    "\n",
    "For custom roles you have to get the role object from the [RoleManager](https://developers.arcgis.com/python/api-reference/arcgis.gis.toc.html#rolemanager) static class (via gis.users.roles).  \n",
    "\n",
    "You can't just use the second method for all users because the built-in roles don't exist in the RoleManager.\n",
    "```python\n",
    "builtin_roles = ['org_user', 'org_publisher', 'org_admin', 'viewer', 'view_only', 'viewplusedit']\n",
    "\n",
    "if (agol_user.role in builtin_roles):\n",
    "\t# Built-in user role - assign directly\n",
    "\tsso_user.update_role(role=agol_user.role)\n",
    "else:\n",
    "\t# Custom role - first get role object from RoleManager\n",
    "\trole = gis.users.roles.get_role(agol_user.roleId)\n",
    "\tsso_user.update_role(role=role)\n",
    "```\n",
    "You can get a feel for the roles used in your organization using something like the code below."
   ]
  },
  {
   "cell_type": "code",
   "execution_count": null,
   "metadata": {},
   "outputs": [],
   "source": [
    "builtin_roles = ['org_user', 'org_publisher', 'org_admin', 'viewer', 'view_only', 'viewplusedit']\n",
    "builtins_used = {user.role for user in all_users if user.role == user.roleId and user.role in builtin_roles}\n",
    "builtins_used"
   ]
  },
  {
   "cell_type": "code",
   "execution_count": null,
   "metadata": {},
   "outputs": [],
   "source": [
    "# Get a list of custom roles for your organization\n",
    "for role in gis.users.roles.all():\n",
    "    print(role.name)"
   ]
  },
  {
   "cell_type": "code",
   "execution_count": null,
   "metadata": {},
   "outputs": [],
   "source": [
    "# Get a usage count for each custom role\n",
    "all_custom_roles = [gis.users.roles.get_role(user.roleId).name for user in all_users if user.role not in builtin_roles]\n",
    "custom_roles_count = Counter(all_custom_roles)\n",
    "custom_roles_count"
   ]
  },
  {
   "cell_type": "markdown",
   "metadata": {},
   "source": [
    "### Regionalization\n",
    "I assumed these settings would be the same for everyone in my organization, but there are some differences. I'm not sure why they don't all default to the same thing, though it may have to do with *when* a certain account was created.  I'm still trying to track down what None means in these contexts and what the difference between *en* and *en-US* is."
   ]
  },
  {
   "cell_type": "code",
   "execution_count": null,
   "metadata": {},
   "outputs": [],
   "source": [
    "units_used = {user.units for user in all_users}\n",
    "units_used"
   ]
  },
  {
   "cell_type": "code",
   "execution_count": null,
   "metadata": {},
   "outputs": [],
   "source": [
    "cultures_used = {user.culture for user in all_users}\n",
    "cultures_used"
   ]
  },
  {
   "cell_type": "code",
   "execution_count": null,
   "metadata": {},
   "outputs": [],
   "source": [
    "all_cultures = [user.culture for user in all_users]\n",
    "Counter(all_cultures)"
   ]
  },
  {
   "cell_type": "code",
   "execution_count": null,
   "metadata": {},
   "outputs": [],
   "source": [
    "culture_formats_used = {user.cultureFormat for user in all_users}\n",
    "culture_formats_used"
   ]
  },
  {
   "cell_type": "code",
   "execution_count": null,
   "metadata": {},
   "outputs": [],
   "source": [
    "all_culture_formats = [user.cultureFormat for user in all_users]\n",
    "Counter(all_culture_formats)"
   ]
  },
  {
   "cell_type": "markdown",
   "metadata": {},
   "source": [
    "### [Esri access](https://developers.arcgis.com/python/api-reference/arcgis.gis.toc.html?highlight=esri_access#arcgis.gis.User.esri_access)\n",
    "This is a weird one because the getter returns a string but the setter takes a Boolean. For us the return values are ```arcgisonly``` or ```both```. I can't find documentation on the valid values.  \n",
    "You can find out all the values used in your instance using something like this:"
   ]
  },
  {
   "cell_type": "code",
   "execution_count": null,
   "metadata": {},
   "outputs": [],
   "source": [
    "esri_access_used = {user.esri_access for user in all_users}\n",
    "esri_access_used"
   ]
  },
  {
   "cell_type": "markdown",
   "metadata": {},
   "source": [
    "### Groups\n",
    "Groups are handled differently depending on whether the old user owns the group or not. If they do then you need to transfer the ownership. If they don't then they just join the group."
   ]
  },
  {
   "cell_type": "code",
   "execution_count": null,
   "metadata": {},
   "outputs": [],
   "source": [
    "for group in user.groups:\n",
    "    if (group.owner == user.username):\n",
    "        print(f'Owns: {group.title}')\n",
    "    else:\n",
    "        print(f'Member of: {group.title}')"
   ]
  },
  {
   "attachments": {
    "unable_to_change_owner.png": {
     "image/png": "[encoded data removed]"
    },
    "unable_to_reassign_item_python.png": {
     "image/png": "[encoded data removed]"
    },
    "what_can_members_update.png": {
     "image/png": "[encoded data removed]"
    }
   },
   "cell_type": "markdown",
   "metadata": {},
   "source": [
    "### Content\n",
    "#### item_reassign() function\n",
    "Groups created with ```All items``` selected for ```What items in the group can its members update?``` will have items that can be updated. \n",
    "\n",
    "![what_can_members_update.png](attachment:what_can_members_update.png)\n",
    "\n",
    "See 'Who can contribute content to the group?' in [Create a group](https://doc.arcgis.com/en/arcgis-online/share-maps/create-groups.htm#ESRI_SECTION1_946848D9B81D4607B3E3AB706EB267E3) for more details.\n",
    "\n",
    "> For **Who can contribute content to the group?**, select one of the following:\n",
    "> * **Group members**—All group members can contribute content to the group.\n",
    "> * **Only group owner and managers**—Only you (the group owner), group managers, and administrators in the organization can contribute content to the group. If you choose this option, members can view and access your items, but they can't share their own items with the group. This type of group is a good way to share your authoritative maps and data to a targeted audience. You control what items appear in the group and who can view them.  \n",
    "\n",
    "Items in groups with this setting cannot change ownership. If you try you'll get an error, whether in the UI:\n",
    "\n",
    "![unable_to_change_owner.png](attachment:unable_to_change_owner.png)\n",
    "\n",
    "Or in Python:\n",
    "\n",
    "![unable_to_reassign_item_python.png](attachment:unable_to_reassign_item_python.png)\n",
    "\n",
    "You can't find out from the ```Item``` itself whether it belongs to one of these groups, so what I've done is get a list of all such groups:\n",
    "\n",
    "```python\n",
    "all_groups = gis.groups.search('-')\n",
    "update_groups = [group.title for group in all_groups if 'updateitemcontrol' in group.capabilities]\n",
    "```\n",
    "\n",
    "Then I created a function to reassign items, first checking if the item is in a protected group. If it is I remove it from the group, transfer it, then re-add it to the group.\n",
    "\n",
    "```python\n",
    "# Function to reassign items, taking into account \"Share and update capabilities\"\n",
    "# See 'Who can contribute content to the group?' in https://doc.arcgis.com/en/arcgis-online/share-maps/create-groups.htm for more details\n",
    "def item_reassign(item, user, folder=''):\n",
    "    # Get a list of the item's groups\n",
    "    item_groups = [group.title for group in item.shared_with['groups']]\n",
    "    # See if any of them are restricted (configured to allow all members to update all items)\n",
    "    item_update_groups = [title for title in item_groups if title in update_groups]\n",
    "    # If so the item nees to be removed from those groups before it can be moved\n",
    "    if item_update_groups:\n",
    "        item.unshare(item_update_groups)\n",
    "        \n",
    "    try:\n",
    "        # Do the move\n",
    "        item.reassign_to(user, target_folder=folder)\n",
    "    except Exception as e:\n",
    "        print(e)\n",
    "        raise e\n",
    "    \n",
    "    # Add the item back into the restricted groups (if applicable)\n",
    "    if item_update_groups:\n",
    "        item.share(groups=item_update_groups, allow_members_to_edit=True)\n",
    "```\n",
    "You find the protected groups by searching for the value *updateitemcontrol* in the *group.capabilities*, which is a list:"
   ]
  },
  {
   "cell_type": "code",
   "execution_count": null,
   "metadata": {},
   "outputs": [],
   "source": [
    "all_groups = gis.groups.search()\n",
    "update_groups = [group.title for group in all_groups if 'updateitemcontrol' in group.capabilities]\n",
    "update_groups"
   ]
  },
  {
   "cell_type": "code",
   "execution_count": null,
   "metadata": {},
   "outputs": [],
   "source": [
    "# And here's what happens when you try to transfer the ownership to an item in one of those groups\n",
    "item = gis.content.get('445591ed69c342789df41dcb77927ce2')\n",
    "item.reassign_to(target_owner=user.username, target_folder=None)"
   ]
  },
  {
   "cell_type": "markdown",
   "metadata": {},
   "source": [
    "You can get a list of the groups an item belongs to then compare it against the list of known special groups to determine if the item needs to be unshared from the group before being transferred.  "
   ]
  },
  {
   "cell_type": "code",
   "execution_count": null,
   "metadata": {},
   "outputs": [],
   "source": [
    "# Get a list of the item's groups\n",
    "item_groups = [group.title for group in item.shared_with['groups']]\n",
    "# See if any of them are restricted (configured to allow all members to update all items)\n",
    "item_update_groups = [title for title in item_groups if title in update_groups]\n",
    "# Note you could also use a set operator to get the same result, but I *think* the list comprehension is faster than convert(convert,convert)\n",
    "# item_update_groups = list(set(item_groups) & set(update_groups))\n",
    "item_update_groups"
   ]
  },
  {
   "cell_type": "markdown",
   "metadata": {},
   "source": [
    "#### Root items\n",
    "You can get the list of root items directly from [User.items](https://developers.arcgis.com/python/api-reference/arcgis.gis.toc.html#arcgis.gis.User.items) with no arguments (`Folder=None` is the default):\n",
    "```python\n",
    "agol_root_items = agol_user.items()\n",
    "print('Folder: Root')\n",
    "for item in agol_root_items:\n",
    "    try:\n",
    "        print('* Moving: ' + item.title)\n",
    "        item_reassign(item=item, user=sso_username, folder=None)\n",
    "    except Exception as e:\n",
    "        print(e)\n",
    "        print(\"Item may have already been assigned to user.\")\n",
    "```"
   ]
  },
  {
   "cell_type": "code",
   "execution_count": null,
   "metadata": {},
   "outputs": [],
   "source": [
    "user.items()"
   ]
  },
  {
   "cell_type": "markdown",
   "metadata": {},
   "source": [
    "#### Folder items\n",
    "Folder items are a little trickier. First, we need to create the new folder on for the target user (if it doesn't already exist). Then we can retrieve the folder items using either the folder name (as shown below) or the folder's unique ID (not shown). Once we have the list we can loop through the items and move them the same way we did for the root items.\n",
    "```python\n",
    "agol_folders = agol_user.folders\n",
    "sso_folders = sso_user.folders\n",
    "sso_foldernames = [folder['title'] for folder in sso_folders]\n",
    "for agol_folder in agol_folders:\n",
    "    print('Folder: ' + agol_folder['title'])\n",
    "    # In case script needs to be run twice for some reason, make sure the folder \n",
    "    # doesn't already exist before creating it\n",
    "    if agol_folder['title'] not in sso_foldernames: \n",
    "        gis.content.create_folder(agol_folder['title'], sso_username)\n",
    "    # Get a list of items from the source folder, then loop through and move each item\n",
    "    agol_folder_items = agol_user.items(folder=agol_folder['title']) \n",
    "    for item in agol_folder_items:\n",
    "        print('* Moving ' + item.title)\n",
    "        try:\n",
    "            item_reassign(item=item, user=sso_username, folder=agol_folder['title'])\n",
    "        except Exception as e:\n",
    "            print(e)\n",
    "            print(\"Unable to reassign item \" + item.title + \" to folder \" + agol_folder['title'])\n",
    "```"
   ]
  },
  {
   "cell_type": "code",
   "execution_count": null,
   "metadata": {},
   "outputs": [],
   "source": [
    "folders = user.folders # list of folder objects\n",
    "foldernames = [folder['title'] for folder in folders]\n",
    "foldernames"
   ]
  },
  {
   "cell_type": "markdown",
   "metadata": {},
   "source": [
    "### Things we can't do (yet)\n",
    "#### Favorites and licenses\n",
    "You can get the favorites and licenses from the UI but I couldn't figure out a way to set them. I had the script dump out a list of each so they could be re-set manually on the new user (if desired)."
   ]
  },
  {
   "cell_type": "code",
   "execution_count": null,
   "metadata": {},
   "outputs": [],
   "source": [
    "fav_items = gis.groups.get(user.favGroupId)\n",
    "favs = [content.title for content in fav_items.content()]\n",
    "if favs:\n",
    "    print(favs)"
   ]
  },
  {
   "cell_type": "markdown",
   "metadata": {},
   "source": [
    "#### Credits\n",
    "This is supposed to work according to the API documentation and the ArcGIS Notebooks Online samples, but it doesn't actually work for me.  \n",
    "See [CreditManager](https://developers.arcgis.com/python/api-reference/arcgis.gis.admin.html?#creditmanager) for more details."
   ]
  },
  {
   "cell_type": "code",
   "execution_count": null,
   "metadata": {},
   "outputs": [],
   "source": [
    "print(f'User has {user.assignedCredits} credits assigned and {user.availableCredits} available')\n",
    "gis.admin.credits.allocate(username=user.username, credits=200)\n",
    "print(f'User has {user.assignedCredits} credits assigned and {user.availableCredits} available')"
   ]
  },
  {
   "cell_type": "markdown",
   "metadata": {},
   "source": [
    "#### Link your ArcGIS accounts\n",
    "Requires authentication to the other account(s), so it has to be done by the user after the fact."
   ]
  }
 ],
 "metadata": {
  "esriNotebookRuntime": {
   "notebookRuntimeName": "ArcGIS Notebook Python 3 Advanced",
   "notebookRuntimeVersion": "2.0"
  },
  "kernelspec": {
   "display_name": "Python 3",
   "language": "python",
   "name": "python3"
  },
  "language_info": {
   "codemirror_mode": {
    "name": "ipython",
    "version": 3
   },
   "file_extension": ".py",
   "mimetype": "text/x-python",
   "name": "python",
   "nbconvert_exporter": "python",
   "pygments_lexer": "ipython3",
   "version": "3.6.8"
  }
 },
 "nbformat": 4,
 "nbformat_minor": 2
}
